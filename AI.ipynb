{
 "cells": [
  {
   "cell_type": "code",
   "execution_count": 31,
   "id": "d6ef44c8",
   "metadata": {},
   "outputs": [],
   "source": [
    "import numpy as np \n",
    "import pandas as pd\n",
    "import math\n",
    "import matplotlib.pyplot as plt\n",
    "import seaborn as sns\n",
    "from sklearn.model_selection import train_test_split\n",
    "from sklearn.linear_model import LinearRegression\n",
    "from sklearn import preprocessing\n",
    "from sklearn import linear_model\n",
    "from sklearn.metrics import classification_report\n",
    "%matplotlib inline"
   ]
  },
  {
   "cell_type": "code",
   "execution_count": 2,
   "id": "dccda866",
   "metadata": {},
   "outputs": [],
   "source": [
    "df = pd.read_csv('satdetect.csv')"
   ]
  },
  {
   "cell_type": "markdown",
   "id": "460b90d3",
   "metadata": {},
   "source": [
    "##                                                 Dataset"
   ]
  },
  {
   "cell_type": "code",
   "execution_count": 5,
   "id": "bb15614f",
   "metadata": {},
   "outputs": [
    {
     "data": {
      "text/html": [
       "<div>\n",
       "<style scoped>\n",
       "    .dataframe tbody tr th:only-of-type {\n",
       "        vertical-align: middle;\n",
       "    }\n",
       "\n",
       "    .dataframe tbody tr th {\n",
       "        vertical-align: top;\n",
       "    }\n",
       "\n",
       "    .dataframe thead th {\n",
       "        text-align: right;\n",
       "    }\n",
       "</style>\n",
       "<table border=\"1\" class=\"dataframe\">\n",
       "  <thead>\n",
       "    <tr style=\"text-align: right;\">\n",
       "      <th></th>\n",
       "      <th>Timestamp</th>\n",
       "      <th>Name</th>\n",
       "      <th>Semester</th>\n",
       "      <th>CGPA</th>\n",
       "      <th>Satisfaction</th>\n",
       "      <th>How do you rate your CGPA?</th>\n",
       "      <th>Anything you want to say:</th>\n",
       "    </tr>\n",
       "  </thead>\n",
       "  <tbody>\n",
       "    <tr>\n",
       "      <th>0</th>\n",
       "      <td>2021/08/08 11:45:16 PM GMT+6</td>\n",
       "      <td>Rafid Shad</td>\n",
       "      <td>10th</td>\n",
       "      <td>3.50</td>\n",
       "      <td>1</td>\n",
       "      <td>Good</td>\n",
       "      <td>Nope</td>\n",
       "    </tr>\n",
       "    <tr>\n",
       "      <th>1</th>\n",
       "      <td>2021/08/09 12:16:20 AM GMT+6</td>\n",
       "      <td>Shaikh Faisal Rahman</td>\n",
       "      <td>10th</td>\n",
       "      <td>3.85</td>\n",
       "      <td>1</td>\n",
       "      <td>Excellent</td>\n",
       "      <td>try hard as your best</td>\n",
       "    </tr>\n",
       "    <tr>\n",
       "      <th>2</th>\n",
       "      <td>2021/08/09 12:20:01 AM GMT+6</td>\n",
       "      <td>Md Nadimul Islam</td>\n",
       "      <td>10th</td>\n",
       "      <td>3.40</td>\n",
       "      <td>1</td>\n",
       "      <td>Good</td>\n",
       "      <td>Life is beautiful.</td>\n",
       "    </tr>\n",
       "    <tr>\n",
       "      <th>3</th>\n",
       "      <td>2021/08/09 12:43:42 AM GMT+6</td>\n",
       "      <td>Rifah Tasnia</td>\n",
       "      <td>11th</td>\n",
       "      <td>3.80</td>\n",
       "      <td>1</td>\n",
       "      <td>Good</td>\n",
       "      <td>NaN</td>\n",
       "    </tr>\n",
       "    <tr>\n",
       "      <th>4</th>\n",
       "      <td>2021/08/09 10:02:05 AM GMT+6</td>\n",
       "      <td>Puja Fouzder 181-15-10977</td>\n",
       "      <td>11th</td>\n",
       "      <td>3.75</td>\n",
       "      <td>1</td>\n",
       "      <td>Good</td>\n",
       "      <td>No</td>\n",
       "    </tr>\n",
       "    <tr>\n",
       "      <th>5</th>\n",
       "      <td>2021/08/17 12:08:37 PM GMT+6</td>\n",
       "      <td>Chandan Kumar sutradhar</td>\n",
       "      <td>10th</td>\n",
       "      <td>3.50</td>\n",
       "      <td>1</td>\n",
       "      <td>Average</td>\n",
       "      <td>Have relax.not for mind</td>\n",
       "    </tr>\n",
       "    <tr>\n",
       "      <th>6</th>\n",
       "      <td>2021/08/17 12:10:11 PM GMT+6</td>\n",
       "      <td>Nasimul Jahan Fahim</td>\n",
       "      <td>10th</td>\n",
       "      <td>3.70</td>\n",
       "      <td>1</td>\n",
       "      <td>Good</td>\n",
       "      <td>Valo Hoye Jau Bondhu🤐</td>\n",
       "    </tr>\n",
       "    <tr>\n",
       "      <th>7</th>\n",
       "      <td>2021/08/17 12:10:16 PM GMT+6</td>\n",
       "      <td>Khadiza Rahman</td>\n",
       "      <td>10th</td>\n",
       "      <td>3.75</td>\n",
       "      <td>1</td>\n",
       "      <td>Good</td>\n",
       "      <td>no</td>\n",
       "    </tr>\n",
       "    <tr>\n",
       "      <th>8</th>\n",
       "      <td>2021/08/17 12:11:54 PM GMT+6</td>\n",
       "      <td>Tauhid</td>\n",
       "      <td>10th</td>\n",
       "      <td>3.25</td>\n",
       "      <td>1</td>\n",
       "      <td>Good</td>\n",
       "      <td>NaN</td>\n",
       "    </tr>\n",
       "    <tr>\n",
       "      <th>9</th>\n",
       "      <td>2021/08/17 12:12:08 PM GMT+6</td>\n",
       "      <td>Fahima</td>\n",
       "      <td>10th</td>\n",
       "      <td>3.40</td>\n",
       "      <td>1</td>\n",
       "      <td>Average</td>\n",
       "      <td>Nope</td>\n",
       "    </tr>\n",
       "    <tr>\n",
       "      <th>10</th>\n",
       "      <td>2021/08/17 8:19:55 PM GMT+6</td>\n",
       "      <td>Tariqul Islam</td>\n",
       "      <td>10th</td>\n",
       "      <td>3.95</td>\n",
       "      <td>1</td>\n",
       "      <td>Good</td>\n",
       "      <td>I need to more attention in my study</td>\n",
       "    </tr>\n",
       "    <tr>\n",
       "      <th>11</th>\n",
       "      <td>2021/08/17 8:24:35 PM GMT+7</td>\n",
       "      <td>Arafath Anam</td>\n",
       "      <td>11th</td>\n",
       "      <td>3.00</td>\n",
       "      <td>0</td>\n",
       "      <td>Good</td>\n",
       "      <td>No</td>\n",
       "    </tr>\n",
       "    <tr>\n",
       "      <th>12</th>\n",
       "      <td>2021/08/17 8:25:12 PM GMT+8</td>\n",
       "      <td>Nafim Ahmed</td>\n",
       "      <td>11th</td>\n",
       "      <td>3.30</td>\n",
       "      <td>1</td>\n",
       "      <td>Average</td>\n",
       "      <td>Neet to work hard</td>\n",
       "    </tr>\n",
       "    <tr>\n",
       "      <th>13</th>\n",
       "      <td>2021/08/17 8:26:45 PM GMT+9</td>\n",
       "      <td>Ishmam Ruhan</td>\n",
       "      <td>10th</td>\n",
       "      <td>3.00</td>\n",
       "      <td>0</td>\n",
       "      <td>Average</td>\n",
       "      <td>NaN</td>\n",
       "    </tr>\n",
       "    <tr>\n",
       "      <th>14</th>\n",
       "      <td>2021/08/17 8:37:33 PM GMT+10</td>\n",
       "      <td>Mahmudul Hasan</td>\n",
       "      <td>10th</td>\n",
       "      <td>3.50</td>\n",
       "      <td>1</td>\n",
       "      <td>Good</td>\n",
       "      <td>No comments</td>\n",
       "    </tr>\n",
       "  </tbody>\n",
       "</table>\n",
       "</div>"
      ],
      "text/plain": [
       "                       Timestamp                       Name Semester  CGPA  \\\n",
       "0   2021/08/08 11:45:16 PM GMT+6                 Rafid Shad     10th  3.50   \n",
       "1   2021/08/09 12:16:20 AM GMT+6       Shaikh Faisal Rahman     10th  3.85   \n",
       "2   2021/08/09 12:20:01 AM GMT+6           Md Nadimul Islam     10th  3.40   \n",
       "3   2021/08/09 12:43:42 AM GMT+6               Rifah Tasnia     11th  3.80   \n",
       "4   2021/08/09 10:02:05 AM GMT+6  Puja Fouzder 181-15-10977     11th  3.75   \n",
       "5   2021/08/17 12:08:37 PM GMT+6    Chandan Kumar sutradhar     10th  3.50   \n",
       "6   2021/08/17 12:10:11 PM GMT+6        Nasimul Jahan Fahim     10th  3.70   \n",
       "7   2021/08/17 12:10:16 PM GMT+6             Khadiza Rahman     10th  3.75   \n",
       "8   2021/08/17 12:11:54 PM GMT+6                     Tauhid     10th  3.25   \n",
       "9   2021/08/17 12:12:08 PM GMT+6                     Fahima     10th  3.40   \n",
       "10   2021/08/17 8:19:55 PM GMT+6              Tariqul Islam     10th  3.95   \n",
       "11   2021/08/17 8:24:35 PM GMT+7               Arafath Anam     11th  3.00   \n",
       "12   2021/08/17 8:25:12 PM GMT+8                Nafim Ahmed     11th  3.30   \n",
       "13   2021/08/17 8:26:45 PM GMT+9               Ishmam Ruhan     10th  3.00   \n",
       "14  2021/08/17 8:37:33 PM GMT+10             Mahmudul Hasan     10th  3.50   \n",
       "\n",
       "    Satisfaction How do you rate your CGPA?  \\\n",
       "0              1                       Good   \n",
       "1              1                  Excellent   \n",
       "2              1                       Good   \n",
       "3              1                       Good   \n",
       "4              1                       Good   \n",
       "5              1                    Average   \n",
       "6              1                       Good   \n",
       "7              1                       Good   \n",
       "8              1                       Good   \n",
       "9              1                    Average   \n",
       "10             1                       Good   \n",
       "11             0                       Good   \n",
       "12             1                    Average   \n",
       "13             0                    Average   \n",
       "14             1                       Good   \n",
       "\n",
       "               Anything you want to say:  \n",
       "0                                   Nope  \n",
       "1                 try hard as your best   \n",
       "2                     Life is beautiful.  \n",
       "3                                    NaN  \n",
       "4                                     No  \n",
       "5                Have relax.not for mind  \n",
       "6                  Valo Hoye Jau Bondhu🤐  \n",
       "7                                     no  \n",
       "8                                    NaN  \n",
       "9                                   Nope  \n",
       "10  I need to more attention in my study  \n",
       "11                                    No  \n",
       "12                     Neet to work hard  \n",
       "13                                   NaN  \n",
       "14                           No comments  "
      ]
     },
     "execution_count": 5,
     "metadata": {},
     "output_type": "execute_result"
    }
   ],
   "source": [
    "df.head(15)"
   ]
  },
  {
   "cell_type": "code",
   "execution_count": 40,
   "id": "0235f3ba",
   "metadata": {},
   "outputs": [
    {
     "data": {
      "image/png": "[encoded data removed]",
      "text/plain": [
       "<Figure size 1080x360 with 1 Axes>"
      ]
     },
     "metadata": {
      "needs_background": "light"
     },
     "output_type": "display_data"
    }
   ],
   "source": [
    "plt.figure(figsize=(15,5))\n",
    "plt.grid()\n",
    "sns.countplot(x='CGPA', data= df)\n",
    "plt.title(\"CGPA\", fontsize=15)\n",
    "plt.show()"
   ]
  },
  {
   "cell_type": "code",
   "execution_count": 33,
   "id": "ac83b97a",
   "metadata": {},
   "outputs": [
    {
     "data": {
      "image/png": "[encoded data removed]",
      "text/plain": [
       "<Figure size 360x360 with 1 Axes>"
      ]
     },
     "metadata": {
      "needs_background": "light"
     },
     "output_type": "display_data"
    }
   ],
   "source": [
    "\n",
    "plt.figure(figsize=(5,5))\n",
    "plt.grid()\n",
    "sns.countplot(x='Satisfaction', data= df)\n",
    "plt.title(\"Satisfaction\", fontsize=15)\n",
    "plt.show()"
   ]
  },
  {
   "cell_type": "code",
   "execution_count": 36,
   "id": "94dae717",
   "metadata": {},
   "outputs": [
    {
     "data": {
      "image/png": "[encoded data removed]",
      "text/plain": [
       "<Figure size 360x360 with 1 Axes>"
      ]
     },
     "metadata": {
      "needs_background": "light"
     },
     "output_type": "display_data"
    }
   ],
   "source": [
    "plt.figure(figsize=(5,5))\n",
    "plt.grid()\n",
    "sns.countplot(x='Semester', data= df)\n",
    "plt.title(\"Semester\", fontsize=15)\n",
    "plt.show()"
   ]
  },
  {
   "cell_type": "code",
   "execution_count": 41,
   "id": "b04b7514",
   "metadata": {},
   "outputs": [
    {
     "data": {
      "image/png": "[encoded data removed]",
      "text/plain": [
       "<Figure size 720x360 with 1 Axes>"
      ]
     },
     "metadata": {
      "needs_background": "light"
     },
     "output_type": "display_data"
    }
   ],
   "source": [
    "plt.figure(figsize=(10,5))\n",
    "plt.grid()\n",
    "sns.countplot(x='How do you rate your CGPA?', data= df)\n",
    "plt.title(\"How do you rate your CGPA?\", fontsize=15)\n",
    "plt.show()"
   ]
  },
  {
   "cell_type": "code",
   "execution_count": 6,
   "id": "eb359fa1",
   "metadata": {},
   "outputs": [
    {
     "data": {
      "text/plain": [
       "Timestamp                      0\n",
       "Name                           0\n",
       "Semester                       0\n",
       "CGPA                           0\n",
       "Satisfaction                   0\n",
       "How do you rate your CGPA?     0\n",
       "Anything you want to say:     24\n",
       "dtype: int64"
      ]
     },
     "execution_count": 6,
     "metadata": {},
     "output_type": "execute_result"
    }
   ],
   "source": [
    "df.isnull().sum()"
   ]
  },
  {
   "cell_type": "code",
   "execution_count": 7,
   "id": "aecbc1e8",
   "metadata": {},
   "outputs": [
    {
     "data": {
      "text/plain": [
       "0    27\n",
       "1    16\n",
       "Name: Satisfaction, dtype: int64"
      ]
     },
     "execution_count": 7,
     "metadata": {},
     "output_type": "execute_result"
    }
   ],
   "source": [
    "df['Satisfaction'].value_counts()"
   ]
  },
  {
   "cell_type": "code",
   "execution_count": 8,
   "id": "31ec129e",
   "metadata": {},
   "outputs": [],
   "source": [
    "x = df[['CGPA']]\n",
    "y = df['Satisfaction']"
   ]
  },
  {
   "cell_type": "code",
   "execution_count": 9,
   "id": "cda6637e",
   "metadata": {},
   "outputs": [
    {
     "name": "stdout",
     "output_type": "stream",
     "text": [
      "    CGPA\n",
      "0   3.50\n",
      "1   3.85\n",
      "2   3.40\n",
      "3   3.80\n",
      "4   3.75\n",
      "5   3.50\n",
      "6   3.70\n",
      "7   3.75\n",
      "8   3.25\n",
      "9   3.40\n",
      "10  3.95\n",
      "11  3.00\n",
      "12  3.30\n",
      "13  3.00\n",
      "14  3.50\n",
      "15  3.40\n",
      "16  2.60\n",
      "17  2.90\n",
      "18  3.00\n",
      "19  2.50\n",
      "20  2.60\n",
      "21  3.60\n",
      "22  2.80\n",
      "23  2.50\n",
      "24  2.90\n",
      "25  2.70\n",
      "26  2.95\n",
      "27  2.95\n",
      "28  3.00\n",
      "29  3.15\n",
      "30  2.95\n",
      "31  2.50\n",
      "32  2.90\n",
      "33  3.25\n",
      "34  2.80\n",
      "35  3.00\n",
      "36  2.75\n",
      "37  2.95\n",
      "38  3.00\n",
      "39  3.00\n",
      "40  2.75\n",
      "41  2.80\n",
      "42  2.95\n"
     ]
    }
   ],
   "source": [
    "print(x)"
   ]
  },
  {
   "cell_type": "code",
   "execution_count": 10,
   "id": "9422e64c",
   "metadata": {},
   "outputs": [
    {
     "name": "stdout",
     "output_type": "stream",
     "text": [
      "0     1\n",
      "1     1\n",
      "2     1\n",
      "3     1\n",
      "4     1\n",
      "5     1\n",
      "6     1\n",
      "7     1\n",
      "8     1\n",
      "9     1\n",
      "10    1\n",
      "11    0\n",
      "12    1\n",
      "13    0\n",
      "14    1\n",
      "15    1\n",
      "16    0\n",
      "17    0\n",
      "18    0\n",
      "19    0\n",
      "20    0\n",
      "21    1\n",
      "22    0\n",
      "23    0\n",
      "24    0\n",
      "25    0\n",
      "26    0\n",
      "27    0\n",
      "28    0\n",
      "29    0\n",
      "30    0\n",
      "31    0\n",
      "32    0\n",
      "33    1\n",
      "34    0\n",
      "35    0\n",
      "36    0\n",
      "37    0\n",
      "38    0\n",
      "39    0\n",
      "40    0\n",
      "41    0\n",
      "42    0\n",
      "Name: Satisfaction, dtype: int64\n"
     ]
    }
   ],
   "source": [
    "print(y)"
   ]
  },
  {
   "cell_type": "code",
   "execution_count": 11,
   "id": "800b7b7f",
   "metadata": {},
   "outputs": [],
   "source": [
    "from sklearn.model_selection import train_test_split"
   ]
  },
  {
   "cell_type": "code",
   "execution_count": 12,
   "id": "db580480",
   "metadata": {},
   "outputs": [],
   "source": [
    "x_train, x_test, y_train, y_test =  train_test_split(x, y, test_size = 0.30, random_state = 1)"
   ]
  },
  {
   "cell_type": "code",
   "execution_count": 13,
   "id": "f737d4ae",
   "metadata": {},
   "outputs": [
    {
     "name": "stdout",
     "output_type": "stream",
     "text": [
      "    CGPA\n",
      "3   3.80\n",
      "2   3.40\n",
      "24  2.90\n",
      "40  2.75\n",
      "17  2.90\n",
      "30  2.95\n",
      "22  2.80\n",
      "36  2.75\n",
      "32  2.90\n",
      "19  2.50\n",
      "21  3.60\n",
      "34  2.80\n",
      "29  3.15\n"
     ]
    }
   ],
   "source": [
    "print(x_test)"
   ]
  },
  {
   "cell_type": "code",
   "execution_count": 14,
   "id": "dfe8f2d9",
   "metadata": {},
   "outputs": [
    {
     "name": "stdout",
     "output_type": "stream",
     "text": [
      "3     1\n",
      "2     1\n",
      "24    0\n",
      "40    0\n",
      "17    0\n",
      "30    0\n",
      "22    0\n",
      "36    0\n",
      "32    0\n",
      "19    0\n",
      "21    1\n",
      "34    0\n",
      "29    0\n",
      "Name: Satisfaction, dtype: int64\n"
     ]
    }
   ],
   "source": [
    "print(y_test)"
   ]
  },
  {
   "cell_type": "markdown",
   "id": "4d3bb43e",
   "metadata": {},
   "source": [
    "## Logistic Regression"
   ]
  },
  {
   "cell_type": "code",
   "execution_count": 15,
   "id": "a205cd42",
   "metadata": {},
   "outputs": [],
   "source": [
    "from sklearn.linear_model import LogisticRegression"
   ]
  },
  {
   "cell_type": "code",
   "execution_count": 16,
   "id": "b360c2ff",
   "metadata": {},
   "outputs": [
    {
     "data": {
      "text/plain": [
       "LogisticRegression()"
      ]
     },
     "execution_count": 16,
     "metadata": {},
     "output_type": "execute_result"
    }
   ],
   "source": [
    "model = LogisticRegression()\n",
    "model.fit(x_train, y_train)"
   ]
  },
  {
   "cell_type": "code",
   "execution_count": 17,
   "id": "e0882257",
   "metadata": {},
   "outputs": [
    {
     "name": "stdout",
     "output_type": "stream",
     "text": [
      "[1 1 0 0 0 0 0 0 0 0 1 0 0]\n"
     ]
    }
   ],
   "source": [
    "print(model.predict(x_test))"
   ]
  },
  {
   "cell_type": "code",
   "execution_count": 18,
   "id": "132d9ea5",
   "metadata": {},
   "outputs": [],
   "source": [
    "LR = model.predict(x_test)"
   ]
  },
  {
   "cell_type": "markdown",
   "id": "a247fc3b",
   "metadata": {},
   "source": [
    "## Classification Result"
   ]
  },
  {
   "cell_type": "code",
   "execution_count": 19,
   "id": "e90251a7",
   "metadata": {},
   "outputs": [
    {
     "name": "stdout",
     "output_type": "stream",
     "text": [
      "              precision    recall  f1-score   support\n",
      "\n",
      "           0       1.00      1.00      1.00        10\n",
      "           1       1.00      1.00      1.00         3\n",
      "\n",
      "    accuracy                           1.00        13\n",
      "   macro avg       1.00      1.00      1.00        13\n",
      "weighted avg       1.00      1.00      1.00        13\n",
      "\n"
     ]
    }
   ],
   "source": [
    "print(classification_report(LR, y_test))"
   ]
  },
  {
   "cell_type": "markdown",
   "id": "c4555624",
   "metadata": {},
   "source": [
    "## Score"
   ]
  },
  {
   "cell_type": "code",
   "execution_count": 20,
   "id": "814e5940",
   "metadata": {},
   "outputs": [
    {
     "data": {
      "text/plain": [
       "1.0"
      ]
     },
     "execution_count": 20,
     "metadata": {},
     "output_type": "execute_result"
    }
   ],
   "source": [
    "model.score(x_test, y_test)"
   ]
  },
  {
   "cell_type": "code",
   "execution_count": 21,
   "id": "94610be7",
   "metadata": {},
   "outputs": [
    {
     "data": {
      "text/plain": [
       "Text(0.5, 1.0, 'Satisfiction predict Bar')"
      ]
     },
     "execution_count": 21,
     "metadata": {},
     "output_type": "execute_result"
    },
    {
     "data": {
      "image/png": "[encoded data removed]",
      "text/plain": [
       "<Figure size 432x288 with 1 Axes>"
      ]
     },
     "metadata": {
      "needs_background": "light"
     },
     "output_type": "display_data"
    }
   ],
   "source": [
    "plt.scatter(df['CGPA'],df['Satisfaction'])\n",
    "plt.title('Satisfiction predict Bar')"
   ]
  },
  {
   "cell_type": "code",
   "execution_count": 22,
   "id": "52f61aa2",
   "metadata": {},
   "outputs": [
    {
     "data": {
      "text/plain": [
       "array([[0.21016542, 0.78983458],\n",
       "       [0.42254119, 0.57745881],\n",
       "       [0.72154189, 0.27845811],\n",
       "       [0.79108281, 0.20891719],\n",
       "       [0.72154189, 0.27845811],\n",
       "       [0.69543977, 0.30456023],\n",
       "       [0.76941615, 0.23058385],\n",
       "       [0.79108281, 0.20891719],\n",
       "       [0.72154189, 0.27845811],\n",
       "       [0.87693295, 0.12306705],\n",
       "       [0.30615876, 0.69384124],\n",
       "       [0.76941615, 0.23058385],\n",
       "       [0.57929655, 0.42070345]])"
      ]
     },
     "execution_count": 22,
     "metadata": {},
     "output_type": "execute_result"
    }
   ],
   "source": [
    "model.predict_proba(x_test)"
   ]
  },
  {
   "cell_type": "code",
   "execution_count": 23,
   "id": "c0cc3bc1",
   "metadata": {},
   "outputs": [
    {
     "name": "stdout",
     "output_type": "stream",
     "text": [
      "[[10  0]\n",
      " [ 0  3]]\n"
     ]
    }
   ],
   "source": [
    "pre = model.predict(x_test)\n",
    "from sklearn.metrics import confusion_matrix\n",
    "finalresult=confusion_matrix(y_test,pre)\n",
    "print(finalresult)"
   ]
  },
  {
   "cell_type": "markdown",
   "id": "c3523dfc",
   "metadata": {},
   "source": [
    "##  SVM"
   ]
  },
  {
   "cell_type": "code",
   "execution_count": 24,
   "id": "3699d0e3",
   "metadata": {},
   "outputs": [
    {
     "data": {
      "text/plain": [
       "SVC(kernel='linear', random_state=1)"
      ]
     },
     "execution_count": 24,
     "metadata": {},
     "output_type": "execute_result"
    }
   ],
   "source": [
    "from sklearn.svm import SVC\n",
    "model2 = SVC(kernel = 'linear', random_state = 1)\n",
    "model2.fit(x_train,y_train)"
   ]
  },
  {
   "cell_type": "code",
   "execution_count": 42,
   "id": "15299612",
   "metadata": {},
   "outputs": [
    {
     "name": "stdout",
     "output_type": "stream",
     "text": [
      "[1 1 0 0 0 0 0 0 0 0 1 0 0]\n"
     ]
    }
   ],
   "source": [
    "print(model.predict(x_test))"
   ]
  },
  {
   "cell_type": "markdown",
   "id": "0c6f8221",
   "metadata": {},
   "source": [
    "## Score"
   ]
  },
  {
   "cell_type": "code",
   "execution_count": 29,
   "id": "0684f9e6",
   "metadata": {},
   "outputs": [
    {
     "data": {
      "text/plain": [
       "1.0"
      ]
     },
     "execution_count": 29,
     "metadata": {},
     "output_type": "execute_result"
    }
   ],
   "source": [
    "model2.score(x_test, y_test)"
   ]
  },
  {
   "cell_type": "markdown",
   "id": "5dadd282",
   "metadata": {},
   "source": [
    "## Classification Result"
   ]
  },
  {
   "cell_type": "code",
   "execution_count": 27,
   "id": "020d8635",
   "metadata": {},
   "outputs": [
    {
     "name": "stdout",
     "output_type": "stream",
     "text": [
      "              precision    recall  f1-score   support\n",
      "\n",
      "           0       1.00      1.00      1.00        10\n",
      "           1       1.00      1.00      1.00         3\n",
      "\n",
      "    accuracy                           1.00        13\n",
      "   macro avg       1.00      1.00      1.00        13\n",
      "weighted avg       1.00      1.00      1.00        13\n",
      "\n"
     ]
    }
   ],
   "source": [
    "SV = model.predict(x_test)\n",
    "print(classification_report(SV, y_test))"
   ]
  },
  {
   "cell_type": "code",
   "execution_count": 28,
   "id": "93c4762c",
   "metadata": {},
   "outputs": [
    {
     "name": "stdout",
     "output_type": "stream",
     "text": [
      "[[10  0]\n",
      " [ 0  3]]\n"
     ]
    }
   ],
   "source": [
    "pre = model2.predict(x_test)\n",
    "from sklearn.metrics import confusion_matrix\n",
    "finalresult=confusion_matrix(y_test,pre)\n",
    "print(finalresult)"
   ]
  }
 ],
 "metadata": {
  "kernelspec": {
   "display_name": "Python 3",
   "language": "python",
   "name": "python3"
  },
  "language_info": {
   "codemirror_mode": {
    "name": "ipython",
    "version": 3
   },
   "file_extension": ".py",
   "mimetype": "text/x-python",
   "name": "python",
   "nbconvert_exporter": "python",
   "pygments_lexer": "ipython3",
   "version": "3.8.8"
  }
 },
 "nbformat": 4,
 "nbformat_minor": 5
}
